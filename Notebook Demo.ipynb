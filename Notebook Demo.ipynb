{
    "cells": [
        {
            "cell_type": "markdown",
            "metadata": {
                "collapsed": true
            },
            "source": "# My Jupyter Notebook on IBM Watson Studio"
        },
        {
            "cell_type": "markdown",
            "metadata": {},
            "source": "**Majdi Al-Jazrawe**  \nData Scientist"
        },
        {
            "cell_type": "markdown",
            "metadata": {},
            "source": "*I'm interested in Data Science to leverage its power in the field of bioinformatics. This will greatly enhance our research capabilities.*"
        },
        {
            "cell_type": "markdown",
            "metadata": {},
            "source": "### My code will print the sentence \"Hello World\" ###"
        },
        {
            "cell_type": "code",
            "execution_count": 3,
            "metadata": {},
            "outputs": [
                {
                    "name": "stdout",
                    "output_type": "stream",
                    "text": "Hello World\n"
                }
            ],
            "source": "print(\"Hello World\")"
        },
        {
            "cell_type": "markdown",
            "metadata": {},
            "source": "***\nThings I ~like~ love about Data Science:\n1. It's an exiting new field  \n1. It has the potential to solve many problems  \n   - Such as in healthcare, finance, and education\n3. Allows you to use some powerful tools such as:\n   - <a href=\"www.ibm.com/watson/studio\" target=\"_blank\">IBM Watson Studio</a>\n***"
        },
        {
            "cell_type": "code",
            "execution_count": null,
            "metadata": {},
            "outputs": [],
            "source": ""
        }
    ],
    "metadata": {
        "kernelspec": {
            "display_name": "Python 3.6 with Spark",
            "language": "python3",
            "name": "python36"
        },
        "language_info": {
            "codemirror_mode": {
                "name": "ipython",
                "version": 3
            },
            "file_extension": ".py",
            "mimetype": "text/x-python",
            "name": "python",
            "nbconvert_exporter": "python",
            "pygments_lexer": "ipython3",
            "version": "3.6.8"
        }
    },
    "nbformat": 4,
    "nbformat_minor": 1
}